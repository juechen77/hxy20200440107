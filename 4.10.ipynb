{
 "cells": [
  {
   "cell_type": "code",
   "execution_count": null,
   "metadata": {
    "collapsed": false,
    "jupyter": {
     "outputs_hidden": false
    },
    "scrolled": true
   },
   "outputs": [],
   "source": [
    "# 查看当前挂载的数据集目录, 该目录下的变更重启环境后会自动还原\n",
    "# View dataset directory. \n",
    "# This directory will be recovered automatically after resetting environment. \n",
    "!ls /home/aistudio/data"
   ]
  },
  {
   "cell_type": "code",
   "execution_count": null,
   "metadata": {
    "collapsed": false,
    "jupyter": {
     "outputs_hidden": false
    },
    "scrolled": true
   },
   "outputs": [],
   "source": [
    "# 查看工作区文件, 该目录下的变更将会持久保存. 请及时清理不必要的文件, 避免加载过慢.\n",
    "# View personal work directory. \n",
    "# All changes under this directory will be kept even after reset. \n",
    "# Please clean unnecessary files in time to speed up environment loading. \n",
    "!ls /home/aistudio/work"
   ]
  },
  {
   "cell_type": "code",
   "execution_count": null,
   "metadata": {
    "collapsed": false,
    "jupyter": {
     "outputs_hidden": false
    },
    "scrolled": true
   },
   "outputs": [],
   "source": [
    "# 如果需要进行持久化安装, 需要使用持久化路径, 如下方代码示例:\n",
    "# If a persistence installation is required, \n",
    "# you need to use the persistence path as the following: \n",
    "!mkdir /home/aistudio/external-libraries\n",
    "!pip install beautifulsoup4 -t /home/aistudio/external-libraries"
   ]
  },
  {
   "cell_type": "code",
   "execution_count": null,
   "metadata": {
    "collapsed": false,
    "jupyter": {
     "outputs_hidden": false
    },
    "scrolled": true
   },
   "outputs": [],
   "source": [
    "# 同时添加如下代码, 这样每次环境(kernel)启动的时候只要运行下方代码即可: \n",
    "# Also add the following code, \n",
    "# so that every time the environment (kernel) starts, \n",
    "# just run the following code: \n",
    "import sys \n",
    "sys.path.append('/home/aistudio/external-libraries')"
   ]
  },
  {
   "cell_type": "markdown",
   "metadata": {},
   "source": [
    "请点击[此处](https://ai.baidu.com/docs#/AIStudio_Project_Notebook/a38e5576)查看本环境基本用法.  <br>\n",
    "Please click [here ](https://ai.baidu.com/docs#/AIStudio_Project_Notebook/a38e5576) for more detailed instructions. "
   ]
  },
  {
   "cell_type": "code",
   "execution_count": 3,
   "metadata": {
    "execution": {
     "iopub.execute_input": "2022-11-03T02:13:53.780810Z",
     "iopub.status.busy": "2022-11-03T02:13:53.780261Z",
     "iopub.status.idle": "2022-11-03T02:13:54.291064Z",
     "shell.execute_reply": "2022-11-03T02:13:54.290074Z",
     "shell.execute_reply.started": "2022-11-03T02:13:53.780778Z"
    },
    "scrolled": true
   },
   "outputs": [],
   "source": [
    "import numpy as np\r\n",
    "import copy\r\n",
    "np.set_printoptions(suppress=True)  # 禁用科学计数\r\n",
    "import pandas as pd\r\n",
    "import matplotlib.pyplot as plt"
   ]
  },
  {
   "cell_type": "code",
   "execution_count": 4,
   "metadata": {
    "execution": {
     "iopub.execute_input": "2022-11-03T02:14:38.973362Z",
     "iopub.status.busy": "2022-11-03T02:14:38.972748Z",
     "iopub.status.idle": "2022-11-03T02:14:38.995135Z",
     "shell.execute_reply": "2022-11-03T02:14:38.994427Z",
     "shell.execute_reply.started": "2022-11-03T02:14:38.973331Z"
    },
    "scrolled": true
   },
   "outputs": [
    {
     "data": {
      "text/html": [
       "<div>\n",
       "<style scoped>\n",
       "    .dataframe tbody tr th:only-of-type {\n",
       "        vertical-align: middle;\n",
       "    }\n",
       "\n",
       "    .dataframe tbody tr th {\n",
       "        vertical-align: top;\n",
       "    }\n",
       "\n",
       "    .dataframe thead th {\n",
       "        text-align: right;\n",
       "    }\n",
       "</style>\n",
       "<table border=\"1\" class=\"dataframe\">\n",
       "  <thead>\n",
       "    <tr style=\"text-align: right;\">\n",
       "      <th></th>\n",
       "      <th>编号</th>\n",
       "      <th>色泽</th>\n",
       "      <th>根蒂</th>\n",
       "      <th>敲声</th>\n",
       "      <th>纹理</th>\n",
       "      <th>脐部</th>\n",
       "      <th>触感</th>\n",
       "      <th>密度</th>\n",
       "      <th>含糖率</th>\n",
       "      <th>好瓜</th>\n",
       "    </tr>\n",
       "  </thead>\n",
       "  <tbody>\n",
       "    <tr>\n",
       "      <th>0</th>\n",
       "      <td>1</td>\n",
       "      <td>青绿</td>\n",
       "      <td>蜷缩</td>\n",
       "      <td>浊响</td>\n",
       "      <td>清晰</td>\n",
       "      <td>凹陷</td>\n",
       "      <td>硬滑</td>\n",
       "      <td>0.697</td>\n",
       "      <td>0.460</td>\n",
       "      <td>是</td>\n",
       "    </tr>\n",
       "    <tr>\n",
       "      <th>1</th>\n",
       "      <td>2</td>\n",
       "      <td>乌黑</td>\n",
       "      <td>蜷缩</td>\n",
       "      <td>沉闷</td>\n",
       "      <td>清晰</td>\n",
       "      <td>凹陷</td>\n",
       "      <td>硬滑</td>\n",
       "      <td>0.774</td>\n",
       "      <td>0.376</td>\n",
       "      <td>是</td>\n",
       "    </tr>\n",
       "    <tr>\n",
       "      <th>2</th>\n",
       "      <td>3</td>\n",
       "      <td>乌黑</td>\n",
       "      <td>蜷缩</td>\n",
       "      <td>浊响</td>\n",
       "      <td>清晰</td>\n",
       "      <td>凹陷</td>\n",
       "      <td>硬滑</td>\n",
       "      <td>0.634</td>\n",
       "      <td>0.264</td>\n",
       "      <td>是</td>\n",
       "    </tr>\n",
       "    <tr>\n",
       "      <th>3</th>\n",
       "      <td>4</td>\n",
       "      <td>青绿</td>\n",
       "      <td>蜷缩</td>\n",
       "      <td>沉闷</td>\n",
       "      <td>清晰</td>\n",
       "      <td>凹陷</td>\n",
       "      <td>硬滑</td>\n",
       "      <td>0.608</td>\n",
       "      <td>0.318</td>\n",
       "      <td>是</td>\n",
       "    </tr>\n",
       "    <tr>\n",
       "      <th>4</th>\n",
       "      <td>5</td>\n",
       "      <td>浅白</td>\n",
       "      <td>蜷缩</td>\n",
       "      <td>浊响</td>\n",
       "      <td>清晰</td>\n",
       "      <td>凹陷</td>\n",
       "      <td>硬滑</td>\n",
       "      <td>0.556</td>\n",
       "      <td>0.215</td>\n",
       "      <td>是</td>\n",
       "    </tr>\n",
       "  </tbody>\n",
       "</table>\n",
       "</div>"
      ],
      "text/plain": [
       "   编号  色泽  根蒂  敲声  纹理  脐部  触感     密度    含糖率 好瓜\n",
       "0   1  青绿  蜷缩  浊响  清晰  凹陷  硬滑  0.697  0.460  是\n",
       "1   2  乌黑  蜷缩  沉闷  清晰  凹陷  硬滑  0.774  0.376  是\n",
       "2   3  乌黑  蜷缩  浊响  清晰  凹陷  硬滑  0.634  0.264  是\n",
       "3   4  青绿  蜷缩  沉闷  清晰  凹陷  硬滑  0.608  0.318  是\n",
       "4   5  浅白  蜷缩  浊响  清晰  凹陷  硬滑  0.556  0.215  是"
      ]
     },
     "execution_count": 4,
     "metadata": {},
     "output_type": "execute_result"
    }
   ],
   "source": [
    "\r\n",
    "path = './watermelon3_0_Ch.txt'\r\n",
    "data = pd.read_csv(\r\n",
    "    path,\r\n",
    "    )\r\n",
    "data.head()"
   ]
  },
  {
   "cell_type": "code",
   "execution_count": 5,
   "metadata": {
    "execution": {
     "iopub.execute_input": "2022-11-03T02:15:16.684453Z",
     "iopub.status.busy": "2022-11-03T02:15:16.683805Z",
     "iopub.status.idle": "2022-11-03T02:15:16.689415Z",
     "shell.execute_reply": "2022-11-03T02:15:16.688730Z",
     "shell.execute_reply.started": "2022-11-03T02:15:16.684422Z"
    },
    "scrolled": true
   },
   "outputs": [],
   "source": [
    "class Value():\r\n",
    "    def __init__(self, name, values):\r\n",
    "        \"\"\"\r\n",
    "        name是属性名, values是属性具体取值\r\n",
    "        \"\"\"\r\n",
    "        self.name = name\r\n",
    "        self.values = values"
   ]
  },
  {
   "cell_type": "code",
   "execution_count": 6,
   "metadata": {
    "execution": {
     "iopub.execute_input": "2022-11-03T02:19:12.442000Z",
     "iopub.status.busy": "2022-11-03T02:19:12.441370Z",
     "iopub.status.idle": "2022-11-03T02:19:12.469198Z",
     "shell.execute_reply": "2022-11-03T02:19:12.468363Z",
     "shell.execute_reply.started": "2022-11-03T02:19:12.441967Z"
    },
    "scrolled": true
   },
   "outputs": [],
   "source": [
    "class DecisionTree():\r\n",
    "    \"\"\"\r\n",
    "    决策树算法\r\n",
    "    \"\"\" \r\n",
    "    class Node():\r\n",
    "        \"\"\"\r\n",
    "        节点类\r\n",
    "        \"\"\"\r\n",
    "        def __init__(self, genre=None):\r\n",
    "            self.next = {}\r\n",
    "            self.is_genre = False\r\n",
    "        def add_genre(self, genre):\r\n",
    "            \"\"\"\r\n",
    "            genre是当该节点是根节点时的类别\r\n",
    "            \"\"\"\r\n",
    "            self.genre = int(genre)\r\n",
    "        def add_next_node(self, next_node, value, name):\r\n",
    "            \"\"\"\r\n",
    "            next_node是下一个节点, value是到该节点的取值(条件), next_name是取决划分的属性名\r\n",
    "            \"\"\"\r\n",
    "            self.next_name = name\r\n",
    "            self.next[value] = next_node\r\n",
    "    def __init__(self, pattern):\r\n",
    "        \"\"\"\r\n",
    "        pattern是决策树划分准则\r\n",
    "        \"\"\" \r\n",
    "        self.pattern = pattern\r\n",
    "        self.pruning = {}\r\n",
    "        self.pruning['none'] = self.none_pruning\r\n",
    "        self.pruning['pre'] = self.pre_pruning\r\n",
    "        self.pruning['after'] = self.after_pruning\r\n",
    "    def fit(self, X, y, A = None, pruning='none'):\r\n",
    "        \"\"\"\r\n",
    "        A为属性集, 可以手动传入也可以自动创建\r\n",
    "        \"\"\"\r\n",
    "        self.X = X\r\n",
    "        self.y = y\r\n",
    "        self.head = self.Node()  # 定义头节点\r\n",
    "        self.now_pruning = pruning\r\n",
    "        if A == None:\r\n",
    "            A = []\r\n",
    "            i = 0\r\n",
    "            for i in np.arange(X.shape[1]):  # 创建A\r\n",
    "                A.append(Value(i, np.arange(np.unique(X[:, i]).shape[0])))\r\n",
    "                i += 1\r\n",
    "        temp_X = X.copy()\r\n",
    "        temp_y = y.copy()\r\n",
    "        self.X_to_temp_X = {}  # 映射集合\r\n",
    "        for i in range(temp_X.shape[1]):\r\n",
    "            name = np.unique(temp_X[:, i])\r\n",
    "            for j in range(name.shape[0]):\r\n",
    "                self.X_to_temp_X[name[j]] = j\r\n",
    "                temp_X[temp_X[:, i] == name[j], i] = j\r\n",
    "        name = np.unique(temp_y)\r\n",
    "        self.temp_y_to_y = {}\r\n",
    "        for i in range(name.shape[0]):\r\n",
    "            temp_y[temp_y == name[i]] = i\r\n",
    "            self.temp_y_to_y[i] = name[i]\r\n",
    "        self.X_to_temp_X = pd.DataFrame(self.X_to_temp_X, index=[0])\r\n",
    "        self.temp_y_to_y = pd.DataFrame(self.temp_y_to_y, index=[0])\r\n",
    "        temp_y = temp_y.astype(int)\r\n",
    "        temp_X = temp_X.astype(int)\r\n",
    "        self.pruning[pruning](temp_X, temp_y, A, self.head)\r\n",
    "    def after_pruning(self, X, y, A, now_node):\r\n",
    "        \"\"\"\r\n",
    "        后剪枝\r\n",
    "        \"\"\"\r\n",
    "        self.none_pruning(X, y, A, now_node)\r\n",
    "        def recursive(now_node, front_node):  # 考察front_node是否要替换为叶节点\r\n",
    "            if not now_node.is_genre:\r\n",
    "                for name in now_node.next:\r\n",
    "                    recursive(now_node.next[name], now_node)\r\n",
    "            front_node.is_genre = True\r\n",
    "            pruning_acc = self.accuracy(self.X, self.y)\r\n",
    "            front_node.is_genre = False\r\n",
    "            acc = self.accuracy(self.X, self.y)\r\n",
    "            if(pruning_acc >= acc):\r\n",
    "                front_node.is_genre = True\r\n",
    "            return\r\n",
    "        for name in self.head.next:\r\n",
    "            recursive(self.head.next[name], self.head)\r\n",
    "    def pre_pruning(self, X, y, A, now_node):\r\n",
    "        \"\"\"\r\n",
    "        预剪枝\r\n",
    "        \"\"\"\r\n",
    "        self.none_pruning(X, y, A, now_node)\r\n",
    "        def recursive(now_node): #考察该节点是否要替换为叶节点\r\n",
    "            if now_node.is_genre:\r\n",
    "                return\r\n",
    "            now_node.is_genre = True\r\n",
    "            pruning_acc = self.accuracy(self.X, self.y)\r\n",
    "            now_node.is_genre = False\r\n",
    "            self.next_set_is_genre(now_node, True)\r\n",
    "            acc = self.accuracy(self.X, self.y)\r\n",
    "            self.next_set_is_genre(now_node, False)\r\n",
    "            if(pruning_acc >= acc):\r\n",
    "                now_node.is_genre = True\r\n",
    "                return\r\n",
    "            else:\r\n",
    "                for name in now_node.next:\r\n",
    "                    recursive(now_node.next[name])\r\n",
    "        recursive(self.head)\r\n",
    "    def none_pruning(self, X, y, A, now_node):\r\n",
    "        \"\"\"\r\n",
    "        A是属性集, front_node是前一个节点, 该函数寻找的是前一个节点的下一个最优节点\r\n",
    "        \"\"\"\r\n",
    "        judge = np.unique(y)\r\n",
    "        if judge.shape[0] == 1:  # 判断是否属于同一类别\r\n",
    "            now_node.add_genre(judge)\r\n",
    "            now_node.is_genre = True\r\n",
    "            return\r\n",
    "        now_node.add_genre(np.argmax(np.bincount(y.reshape(len(y)))))  # D中样本数最多的类\r\n",
    "        if (len(A) == 0) or (np.unique(np.unique(X) == X[0])):\r\n",
    "            now_node.is_genre = True\r\n",
    "            return\r\n",
    "        a = self.find_best(X, y, A, self.pattern)  # 返回最优的属性子集\r\n",
    "        temp_A = copy.deepcopy(A)\r\n",
    "        for i in range(len(temp_A)):\r\n",
    "            if temp_A[i].name == a.name:\r\n",
    "                break\r\n",
    "        temp_A.pop(i)\r\n",
    "        for a_v in a.values:\r\n",
    "            temp = (X[:, a.name] == a_v)\r\n",
    "            X_v = X[temp]\r\n",
    "            y_v = y[temp]\r\n",
    "            if X_v.shape[0] == 0:\r\n",
    "                now_node.is_genre = True\r\n",
    "                return\r\n",
    "            else:\r\n",
    "                next_node = self.Node()\r\n",
    "                now_node.add_next_node(next_node, a_v, a.name)\r\n",
    "                self.none_pruning(X_v, y_v, temp_A, next_node)\r\n",
    "    def next_set_is_genre(self, node, setting):\r\n",
    "        for name in node.next:\r\n",
    "            if setting == True:\r\n",
    "                if node.next[name].is_genre == True:\r\n",
    "                    node.next[name].tag = True\r\n",
    "                else:\r\n",
    "                    node.next[name].tag = False\r\n",
    "                node.next[name].is_genre = True\r\n",
    "            else:\r\n",
    "                if node.next[name].tag == True:\r\n",
    "                    continue\r\n",
    "                else:\r\n",
    "                    node.next[name].is_genre = False\r\n",
    "    def find_best(self, X, y, A, pattern):  # 寻找最好的属性集\r\n",
    "        bigger = np.NINF\r\n",
    "        for a in A:\r\n",
    "            temp = pattern(X, y, a)\r\n",
    "            if temp > bigger:\r\n",
    "                bigger = temp\r\n",
    "                greater_a = a\r\n",
    "        return greater_a\r\n",
    "    def predict(self, X):\r\n",
    "        y = np.zeros(X.shape[0]).reshape(1, X.shape[0]).T.astype('object')\r\n",
    "        i = 0\r\n",
    "        for x in X:  # 对每个向量x进行决策树的预测\r\n",
    "            x = np.array(self.X_to_temp_X[x]).reshape(x.shape)\r\n",
    "            temp = self.head\r\n",
    "            while not temp.is_genre:\r\n",
    "                temp = temp.next[x[temp.next_name]]\r\n",
    "            y[i] = self.temp_y_to_y[temp.genre][0]\r\n",
    "            i += 1\r\n",
    "        return y\r\n",
    "    def accuracy(self, X, y):\r\n",
    "        y_pre = self.predict(X)\r\n",
    "        return (np.sum(y_pre == y) / y.shape[0])"
   ]
  },
  {
   "cell_type": "code",
   "execution_count": 7,
   "metadata": {
    "execution": {
     "iopub.execute_input": "2022-11-03T02:19:30.269221Z",
     "iopub.status.busy": "2022-11-03T02:19:30.268243Z",
     "iopub.status.idle": "2022-11-03T02:19:30.274990Z",
     "shell.execute_reply": "2022-11-03T02:19:30.274193Z",
     "shell.execute_reply.started": "2022-11-03T02:19:30.269186Z"
    },
    "scrolled": true
   },
   "outputs": [],
   "source": [
    "def ent(y):\r\n",
    "    res = 0\r\n",
    "    num = y.shape[0]\r\n",
    "    for k in np.unique(y):\r\n",
    "        p_k = np.sum(y == k) / num\r\n",
    "        res += p_k * np.log2(p_k)\r\n",
    "    return -res\r\n",
    "def gain(X, y, a):  # 信息增益\r\n",
    "    res = 0\r\n",
    "    num = y.shape[0]\r\n",
    "    for value in a.values:\r\n",
    "        label = (X[:, a.name] == value)\r\n",
    "        res += (np.sum(label) / num) * ent(y[label])\r\n",
    "    return ent(y) - res"
   ]
  },
  {
   "cell_type": "code",
   "execution_count": 8,
   "metadata": {
    "execution": {
     "iopub.execute_input": "2022-11-03T02:19:48.661882Z",
     "iopub.status.busy": "2022-11-03T02:19:48.661359Z",
     "iopub.status.idle": "2022-11-03T02:19:48.667346Z",
     "shell.execute_reply": "2022-11-03T02:19:48.666679Z",
     "shell.execute_reply.started": "2022-11-03T02:19:48.661851Z"
    },
    "scrolled": true
   },
   "outputs": [],
   "source": [
    "X = np.array(data.iloc[:, :6])\r\n",
    "y = np.array(data.iloc[:, 7]).reshape(1, data.shape[0]).T"
   ]
  },
  {
   "cell_type": "code",
   "execution_count": 9,
   "metadata": {
    "execution": {
     "iopub.execute_input": "2022-11-03T02:20:00.129391Z",
     "iopub.status.busy": "2022-11-03T02:20:00.128410Z",
     "iopub.status.idle": "2022-11-03T02:20:00.132985Z",
     "shell.execute_reply": "2022-11-03T02:20:00.132293Z",
     "shell.execute_reply.started": "2022-11-03T02:20:00.129355Z"
    },
    "scrolled": true
   },
   "outputs": [],
   "source": [
    "decisiontree = DecisionTree(gain)"
   ]
  },
  {
   "cell_type": "code",
   "execution_count": 10,
   "metadata": {
    "execution": {
     "iopub.execute_input": "2022-11-03T02:20:20.351516Z",
     "iopub.status.busy": "2022-11-03T02:20:20.350970Z",
     "iopub.status.idle": "2022-11-03T02:20:20.406806Z",
     "shell.execute_reply": "2022-11-03T02:20:20.406072Z",
     "shell.execute_reply.started": "2022-11-03T02:20:20.351482Z"
    },
    "scrolled": true
   },
   "outputs": [
    {
     "name": "stdout",
     "output_type": "stream",
     "text": [
      "accuracy is 100.0%\n"
     ]
    },
    {
     "name": "stderr",
     "output_type": "stream",
     "text": [
      "/opt/conda/envs/python35-paddle120-env/lib/python3.7/site-packages/ipykernel_launcher.py:113: DeprecationWarning: elementwise comparison failed; this will raise an error in the future.\n"
     ]
    },
    {
     "data": {
      "text/plain": [
       "array([[0.6970000000000001],\n",
       "       [0.774],\n",
       "       [0.634],\n",
       "       [0.608],\n",
       "       [0.556],\n",
       "       [0.40299999999999997],\n",
       "       [0.48100000000000004],\n",
       "       [0.43700000000000006],\n",
       "       [0.6659999999999999],\n",
       "       [0.243],\n",
       "       [0.245],\n",
       "       [0.34299999999999997],\n",
       "       [0.639],\n",
       "       [0.657],\n",
       "       [0.36],\n",
       "       [0.593],\n",
       "       [0.7190000000000001]], dtype=object)"
      ]
     },
     "execution_count": 10,
     "metadata": {},
     "output_type": "execute_result"
    }
   ],
   "source": [
    "decisiontree.fit(X, y, pruning='pre')\r\n",
    "print('accuracy is {}%'.format(decisiontree.accuracy(X, y) * 100))\r\n",
    "decisiontree.predict(X)"
   ]
  },
  {
   "cell_type": "code",
   "execution_count": null,
   "metadata": {
    "scrolled": true
   },
   "outputs": [],
   "source": []
  }
 ],
 "metadata": {
  "kernelspec": {
   "display_name": "Python 3",
   "language": "python",
   "name": "py35-paddle1.2.0"
  },
  "language_info": {
   "codemirror_mode": {
    "name": "ipython",
    "version": 3
   },
   "file_extension": ".py",
   "mimetype": "text/x-python",
   "name": "python",
   "nbconvert_exporter": "python",
   "pygments_lexer": "ipython3",
   "version": "3.7.4"
  }
 },
 "nbformat": 4,
 "nbformat_minor": 4
}
